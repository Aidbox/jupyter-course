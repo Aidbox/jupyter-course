{
 "cells": [
  {
   "cell_type": "markdown",
   "metadata": {},
   "source": [
    "<table width=\"100%\" border=\"0\">\n",
    "<tr>\n",
    "<td width=\"50%\" bgcolor=\"#FFF\" border=\"1\">\n",
    "<a href=\"https://www.health-samurai.io/\">\n",
    "<img src=\"images/health-samurai.png\" alt=\"Health Samurai\" align=\"left\" />\n",
    "</a>\n",
    "</td>\n",
    "<td width=\"50%\" bgcolor=\"#FFF\">\n",
    "<a href=\"http://beda.software/\">\n",
    "<img src=\"images/beda-software.png\" alt=\"Beda.Software\" align=\"right\" />\n",
    "</a>\n",
    "</td>\n",
    "</tr>\n",
    "</table>"
   ]
  },
  {
   "cell_type": "markdown",
   "metadata": {},
   "source": [
    "# Laboratory work #3. FHIR resources Practitioner and Schedule\n",
    "\n",
    "A clinical coordinator invited John for a visit. John said, he’d like to visit the center on Monday if possible. The coordinator needs to select an appropriate doctor with available slots in the schedule. So, the coordinator views a list of available schedules with a `General Practice` service type.\n",
    "\n",
    "Select the first found schedule with available slots for the next Monday (09-16-2018)."
   ]
  },
  {
   "cell_type": "markdown",
   "metadata": {},
   "source": [
    "## 1 Introduction"
   ]
  },
  {
   "cell_type": "markdown",
   "metadata": {},
   "source": [
    "### 1.1 Import library"
   ]
  },
  {
   "cell_type": "markdown",
   "metadata": {},
   "source": [
    "At the beginning we need to import libraries `fhirpy` and `os`.  \n",
    "Also, import `pprint` helper function from local `utils.py` file. We'll use `pprint` to display some structures."
   ]
  },
  {
   "cell_type": "code",
   "execution_count": null,
   "metadata": {},
   "outputs": [],
   "source": [
    "import os\n",
    "import fhirpy\n",
    "\n",
    "from utils import pprint"
   ]
  },
  {
   "cell_type": "markdown",
   "metadata": {},
   "source": [
    "### 1.2 Create an instance of connection"
   ]
  },
  {
   "cell_type": "markdown",
   "metadata": {},
   "source": [
    "To load data from FHIR server we should instantiate `FHIRClient` class from `fhirpy` package.  \n",
    "Let's pass `url` and `authorization` arguments from environment."
   ]
  },
  {
   "cell_type": "code",
   "execution_count": null,
   "metadata": {},
   "outputs": [],
   "source": [
    "client = fhirpy.FHIRClient(\n",
    "    fhir_version='4.0.0',\n",
    "    url=os.environ['BOX_URL'] + '/fhir', \n",
    "    authorization=os.environ['BOX_AUTHORIZATION'])"
   ]
  },
  {
   "cell_type": "markdown",
   "metadata": {},
   "source": [
    "Now, we are able to operate with FHIR resources using `client`."
   ]
  },
  {
   "cell_type": "markdown",
   "metadata": {},
   "source": [
    "## 2 FHIR resources Practitioner, Schedule and Slot"
   ]
  },
  {
   "cell_type": "markdown",
   "metadata": {},
   "source": [
    "### 2.1 [Practitioner](https://www.hl7.org/fhir/practitioner.html)"
   ]
  },
  {
   "cell_type": "markdown",
   "metadata": {},
   "source": [
    "`Practitioner` covers all individuals who are engaged in the healthcare process and healthcare-related services as part of their formal responsibilities.\n",
    "\n",
    "The two major distinctions from [RelatedPerson](https://www.hl7.org/fhir/relatedperson.html) are:\n",
    "* formal responsibility for the healthcare-related services\n",
    "* the fact that `Practitioner` operates on behalf of the care delivery orgranization over multiple patients.\n",
    "\n",
    "Within an organization `Practitioner` can be associated with multiple roles defined by [PractitionerRole](https://www.hl7.org/fhir/practitionerrole.html).\n",
    "\n",
    "Clinical specialty of the clinician is defined in terms of [Practice Setting Code Value Set](https://www.hl7.org/fhir/valueset-c80-practice-codes.html)."
   ]
  },
  {
   "cell_type": "markdown",
   "metadata": {},
   "source": [
    "### 2.2 [Schedule](https://www.hl7.org/fhir/schedule.html)"
   ]
  },
  {
   "cell_type": "markdown",
   "metadata": {},
   "source": [
    "`Schedule` controls dates and times available for performance of a service and/or the use of a resource.\n",
    "\n",
    "The service provided by `Schedule` can be parameterized with `serviceCategory`, `serviceType` and `speciality`.\n",
    "\n",
    "* [serviceCategory](https://www.hl7.org/fhir/valueset-service-category.html)\n",
    "  Is a broader categorisation of the service that will be performed during this appointment.  \n",
    "  For example, in [service category system](http://hl7.org/fhir/service-category) code `2` stands for `Aged Care`. \n",
    "\n",
    "* [serviceType](https://www.hl7.org/fhir/valueset-service-type.html)\n",
    "  Is used for more concrete service that will be performed during this appointment.  \n",
    "  For example, in [service type system](http://hl7.org/fhir/service-type) `Aged Care` is split into multiple\n",
    "  components:  \n",
    "  * code `2` - `Aged Care Assessment`\n",
    "  * code `3` - `Aged Care Information/Referral`\n",
    "  * code `4` - `Aged Residential Care`.\n",
    "\n",
    "* [speciality](https://www.hl7.org/fhir/valueset-c80-practice-codes.html)\n",
    "  The speciality of a practitioner that would be required to perform the service requested.  \n",
    "  For example, in [practice codes](https://www.hl7.org/fhir/valueset-c80-practice-codes.html)\n",
    "  for snomed system `http://snomed.info/sct` code `394814009` stands for `General practice`.\n",
    "\n",
    "The only required field is `actor` - the resource the `Schedule` is providing availability information for.  \n",
    "It is of `Reference` type and can reffer to `Practitioner`, `PractitionerRole`, `Device` or a few other resources.\n",
    "\n",
    "There are five [search parameters](https://www.hl7.org/fhir/schedule.html#search) defined for `Schedule` resource\n",
    "* `active` to find a `Schedule` in a concrete state (active or inactive)\n",
    "* `actor` to find a `Schedule` for the individual (`Practitioner`, for example).\n",
    "* `identifier` to search for a `Schedule` with specific `identifier`\n",
    "* `type` for the type of appointments that can be booked into associated slots.\n",
    "* `date` for `Schedule` resources that have a period that contains this date specified.\n",
    "\n",
    "A slot of time on a schedule that might be available for booking appointments is defined with [Slot](https://www.hl7.org/fhir/slot.html) resource.\n",
    "\n",
    "`Schedule` does not directly contains `Slot` resources.\n",
    "It has `planningHorizon` instead - the interval for which an organization is accepting appointments and each `Slot` has a reference to the `Schedule` to which it belongs.\n",
    "\n",
    "Let's suppose that the organization has a weekly schedule with eight one-hour appointments permitted per a business day.  \n",
    "The weekly schedule will fit in a single `Schedule` resource with the dates for the start and end of week set.  \n",
    "This `Schedule` resource will then have 40 `Slot` resources associated with it."
   ]
  },
  {
   "cell_type": "markdown",
   "metadata": {},
   "source": [
    "### 2.3 [Slot](https://www.hl7.org/fhir/slot.html)"
   ]
  },
  {
   "cell_type": "markdown",
   "metadata": {},
   "source": [
    "`Slot`s are effectively spaces of free/busy time, they do not provide any information about appointments that are available, just the time, and optionally what the time can be used for.\n",
    "\n",
    "There can be multiple `Slot`s reffering to a given instant of time, this is possible in a case of, for example, open group therapy.\n",
    "\n",
    "The slots in a schedule are not necessarily of the same size, and can be different for different days of week."
   ]
  },
  {
   "cell_type": "markdown",
   "metadata": {},
   "source": [
    "## 3 Find a schedule"
   ]
  },
  {
   "cell_type": "markdown",
   "metadata": {},
   "source": [
    "Let's search for a schedule with `General Practice` type of appointments. \n",
    "\n",
    "`Schedule` has a [search parameter](https://www.hl7.org/fhir/schedule.html#search) `service-type` that translates into `serviceType` field. `serviceType` is defined in terms of [ServiceType value set](https://www.hl7.org/fhir/valueset-service-type.html).  \n",
    "On the value set `General Practice` is defined with code `124`.\n",
    "\n",
    "Note that every `Schedule` provides availability information for a list of resources. The list is stored in a field `actor`.  \n",
    "We may want to ask `FHIR` server to include those actors in the query result."
   ]
  },
  {
   "cell_type": "code",
   "execution_count": null,
   "metadata": {},
   "outputs": [],
   "source": [
    "schedules = client.resources('Schedule').search(date='2018-09-16', **{'service-type': 124}).include('Schedule', 'actor').fetch()\n",
    "schedules"
   ]
  },
  {
   "cell_type": "markdown",
   "metadata": {},
   "source": [
    "Let's look into the `actors` returned with the query result"
   ]
  },
  {
   "cell_type": "code",
   "execution_count": null,
   "metadata": {},
   "outputs": [],
   "source": [
    "[[actor.to_resource() for actor in schedule['actor']] for schedule in schedules]"
   ]
  },
  {
   "cell_type": "markdown",
   "metadata": {},
   "source": [
    "Each of the schedules provides availability information for `Practitioner` and `Location`."
   ]
  },
  {
   "cell_type": "markdown",
   "metadata": {},
   "source": [
    "## 4 Load slots schedules"
   ]
  },
  {
   "cell_type": "markdown",
   "metadata": {},
   "source": [
    "Please, read about [Slot search parameters](https://www.hl7.org/fhir/slot.html#search) before moving on.\n",
    "\n",
    "Now let's search for slots defined for the schedules."
   ]
  },
  {
   "cell_type": "code",
   "execution_count": null,
   "metadata": {},
   "outputs": [],
   "source": [
    "[client.resources('Slot').search(schedule=schedule['id']).fetch() for schedule in schedules]"
   ]
  },
  {
   "cell_type": "markdown",
   "metadata": {},
   "source": [
    "There are no available slots for `Adam Ainslay` on Monday 09-16-2018, so we'll work with `Kelly Smith` (first in the schedules list)."
   ]
  },
  {
   "cell_type": "code",
   "execution_count": null,
   "metadata": {},
   "outputs": [],
   "source": [
    "schedule = schedules[0]\n",
    "schedule"
   ]
  },
  {
   "cell_type": "markdown",
   "metadata": {},
   "source": [
    "Let's display the schedule in more comfortable format."
   ]
  },
  {
   "cell_type": "code",
   "execution_count": null,
   "metadata": {},
   "outputs": [],
   "source": [
    "slots = client.resources('Slot').search(schedule=schedule['id']).fetch()\n",
    "[(slot.get('start'), slot.get('end'), slot.get('status'))  for slot in slots]"
   ]
  },
  {
   "cell_type": "markdown",
   "metadata": {},
   "source": [
    "**Exercise**: Find all of the `free` slots for the schedule using API. Hint: this can be done with `status` [search parameter](https://www.hl7.org/fhir/slot.html#search)."
   ]
  },
  {
   "cell_type": "code",
   "execution_count": null,
   "metadata": {},
   "outputs": [],
   "source": [
    "slots = client.resources('Slot').search(\n",
    "    schedule=schedule['id'],\n",
    "    # Write code here\n",
    ").fetch()\n",
    "[(slot.get('start'), slot.get('end'), slot.get('status')) for slot in slots]"
   ]
  },
  {
   "cell_type": "markdown",
   "metadata": {},
   "source": [
    "**Exercise**: Find all of the slots starting at 11am on Monday 09-16-2018. Hint: use `start` [search parameter](https://www.hl7.org/fhir/slot.html#search)."
   ]
  },
  {
   "cell_type": "code",
   "execution_count": null,
   "metadata": {},
   "outputs": [],
   "source": [
    "slots = client.resources('Slot').search(\n",
    "    schedule=schedule['id'],\n",
    "    # Write code here\n",
    ").fetch()\n",
    "[(slot.get('start'), slot.get('end'), slot.get('status'))  for slot in slots]"
   ]
  },
  {
   "cell_type": "markdown",
   "metadata": {},
   "source": [
    "## Summary"
   ]
  },
  {
   "cell_type": "markdown",
   "metadata": {},
   "source": [
    "In this laboratory work the following topics were covered:\n",
    "* `Practitioner`, `Schedule` and `Slot` resources\n",
    "* How to find a `Schedule` by service type and date\n",
    "* How to load `Slots` for a `Schedule` resource\n",
    "* How to search `Slots` for specific date and speciality"
   ]
  },
  {
   "cell_type": "markdown",
   "metadata": {},
   "source": [
    "<table width=\"100%\" border=\"0\">\n",
    "<tr>\n",
    "<td width=\"50%\" bgcolor=\"#FFF\" border=\"1\">\n",
    "<a href=\"https://www.health-samurai.io/\">\n",
    "<img src=\"images/health-samurai.png\" alt=\"Health Samurai\" align=\"left\" />\n",
    "</a>\n",
    "</td>\n",
    "<td width=\"50%\" bgcolor=\"#FFF\">\n",
    "<a href=\"http://beda.software/\">\n",
    "<img src=\"images/beda-software.png\" alt=\"Beda.Software\" align=\"right\" />\n",
    "</a>\n",
    "</td>\n",
    "</tr>\n",
    "</table>"
   ]
  }
 ],
 "metadata": {
  "kernelspec": {
   "display_name": "Python 3",
   "language": "python",
   "name": "python3"
  },
  "language_info": {
   "codemirror_mode": {
    "name": "ipython",
    "version": 3
   },
   "file_extension": ".py",
   "mimetype": "text/x-python",
   "name": "python",
   "nbconvert_exporter": "python",
   "pygments_lexer": "ipython3",
   "version": "3.6.3"
  },
  "pycharm": {
   "stem_cell": {
    "cell_type": "raw",
    "source": [],
    "metadata": {
     "collapsed": false
    }
   }
  }
 },
 "nbformat": 4,
 "nbformat_minor": 2
}