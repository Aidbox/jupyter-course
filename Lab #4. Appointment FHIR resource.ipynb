{
 "cells": [
  {
   "cell_type": "markdown",
   "metadata": {},
   "source": [
    "<table width=\"100%\" border=\"0\">\n",
    "<tr>\n",
    "<td width=\"50%\" bgcolor=\"#FFF\" border=\"1\">\n",
    "<a href=\"https://www.health-samurai.io/\">\n",
    "<img src=\"images/health-samurai.png\" alt=\"Health Samurai\" align=\"left\" />\n",
    "</a>\n",
    "</td>\n",
    "<td width=\"50%\" bgcolor=\"#FFF\">\n",
    "<a href=\"http://beda.software/\">\n",
    "<img src=\"images/beda-software.png\" alt=\"Beda.Software\" align=\"right\" />\n",
    "</a>\n",
    "</td>\n",
    "</tr>\n",
    "</table>"
   ]
  },
  {
   "cell_type": "markdown",
   "metadata": {},
   "source": [
    "# Laboratory work #4. FHIR resource Appointment\n",
    "\n",
    "Make an appointment for the patient (John Thompson) from the lab#1 to the practitioner selected  in the lab #3 for next Monday (09-16-2018)."
   ]
  },
  {
   "cell_type": "markdown",
   "metadata": {},
   "source": [
    "## 1 Introduction"
   ]
  },
  {
   "cell_type": "markdown",
   "metadata": {},
   "source": [
    "### 1.1 Import library"
   ]
  },
  {
   "cell_type": "markdown",
   "metadata": {},
   "source": [
    "For the beginning we should import the `fhirpy` and `os` libraries.  \n",
    "Also we import `pprint` helper function from local `utils.py` file. We'll use `pprint` to display some structures."
   ]
  },
  {
   "cell_type": "code",
   "execution_count": null,
   "metadata": {},
   "outputs": [],
   "source": [
    "import os\n",
    "import fhirpy\n",
    "\n",
    "from utils import pprint"
   ]
  },
  {
   "cell_type": "markdown",
   "metadata": {},
   "source": [
    "### 1.2 Create an instance of connection"
   ]
  },
  {
   "cell_type": "markdown",
   "metadata": {},
   "source": [
    "To load data from FHIR server we should instantiate `FHIRClient` class from `fhirpy` package.  \n",
    "We pass `url` and `authorization` arguments from environment."
   ]
  },
  {
   "cell_type": "code",
   "execution_count": null,
   "metadata": {},
   "outputs": [],
   "source": [
    "client = fhirpy.AsyncFHIRClient(\n",
    "    url=os.environ['BOX_URL'] + '/fhir', \n",
    "    authorization=os.environ['BOX_AUTHORIZATION'])"
   ]
  },
  {
   "cell_type": "markdown",
   "metadata": {},
   "source": [
    "Now, we are able to operate with FHIR resources using `client`."
   ]
  },
  {
   "cell_type": "markdown",
   "metadata": {},
   "source": [
    "## 2 Find participants"
   ]
  },
  {
   "cell_type": "markdown",
   "metadata": {},
   "source": [
    "**Exercise**: Find a patient whose name is `John Thompson`"
   ]
  },
  {
   "cell_type": "code",
   "execution_count": null,
   "metadata": {},
   "outputs": [],
   "source": [
    "patient = await client.resources('Patient').search(name=['John', 'Thompson']).first()\n",
    "patient"
   ]
  },
  {
   "cell_type": "markdown",
   "metadata": {},
   "source": [
    "**Exercise**: Find the practitioner we've choosen before. Her name is `Kelly Smith`"
   ]
  },
  {
   "cell_type": "code",
   "execution_count": null,
   "metadata": {},
   "outputs": [],
   "source": [
    "practitioner = await client.resources('Practitioner').search(\n",
    "    # Write code here\n",
    ").first()\n",
    "practitioner"
   ]
  },
  {
   "cell_type": "markdown",
   "metadata": {},
   "source": [
    "## 3 Select date"
   ]
  },
  {
   "cell_type": "markdown",
   "metadata": {},
   "source": [
    "**Exercise**: Using `Schedule` [search parameters](https://www.hl7.org/fhir/schedule.html#search) find the schedule to use with practitioner"
   ]
  },
  {
   "cell_type": "code",
   "execution_count": null,
   "metadata": {},
   "outputs": [],
   "source": [
    "schedule = await client.resources('Schedule').search(\n",
    "    # Write code here\n",
    ").first()\n",
    "schedule"
   ]
  },
  {
   "cell_type": "markdown",
   "metadata": {},
   "source": [
    "**Exercise**: For the schedule found choose a time slot at 11 am on Monday 16"
   ]
  },
  {
   "cell_type": "code",
   "execution_count": null,
   "metadata": {},
   "outputs": [],
   "source": [
    "slot = await client.resources('Slot').search(\n",
    "    schedule=schedule['id'],\n",
    "    # Write code here\n",
    ").first()\n",
    "(slot.get('start'), slot.get('end'), slot.get('status'))"
   ]
  },
  {
   "cell_type": "markdown",
   "metadata": {},
   "source": [
    "Mark selected time slot as `busy`"
   ]
  },
  {
   "cell_type": "code",
   "execution_count": null,
   "metadata": {},
   "outputs": [],
   "source": [
    "slot['status'] = 'busy'\n",
    "await slot.save()"
   ]
  },
  {
   "cell_type": "markdown",
   "metadata": {},
   "source": [
    "## 4 Appointment"
   ]
  },
  {
   "cell_type": "markdown",
   "metadata": {},
   "source": [
    "[Appointment](https://www.hl7.org/fhir/appointment.html) resources are used to provide information about a planned meeting (only one) that may be in the future or past.\n",
    "\n",
    "`Appointment` can be considered as administrative only, and the `Encounter` is expected to have clinical implications. In general, it is expected that appointments will result in the creation of an `Encounter`. The encounter is typically created when the service starts, not when the patient arrives.\n",
    "\n",
    "When Request/Response pattern is in use, a new `Appointment` is created with `status=proposed` or `status=pending` and the list of actors with status of `needs-action`. [AppointmentResponse](https://www.hl7.org/fhir/appointmentresponse.html) is then used by participants to respond with their acceptance (or not) to the appointment. Once all of the participants have replied, the appointment gets it's final status.\n",
    "\n",
    "In an Emergency Room context, the appointment resource is replaced with `Encounter`.\n",
    "\n",
    "To assign an `Appointment` to a specific date:\n",
    "* Determine address details of the resource we want to schedule appointment with.\n",
    "* Check available `Slot`s for that time.\n",
    "* Create new `Appointment` resource with `Appointment.status=proposed` and `status=needs-action` for all `Appointment.participants`.\n",
    "* Wait for `Appointment.status` updates for approved or rejected appointments.\n",
    "\n",
    "We are already agreed on the time slot. All of the addressing information is provided by the `Schedule` the time slot is booked for."
   ]
  },
  {
   "cell_type": "markdown",
   "metadata": {},
   "source": [
    "Let's create a new `Appointment`"
   ]
  },
  {
   "cell_type": "code",
   "execution_count": null,
   "metadata": {},
   "outputs": [],
   "source": [
    "# All of the actors from Schedule\n",
    "participants = [{'actor': actor, 'status': 'needs-action'} for actor in schedule['actor']]\n",
    "\n",
    "# Plus the patient\n",
    "participants += [{'actor': patient.to_reference(), 'status': 'accepted'}]\n",
    "\n",
    "appointment = client.resource(\n",
    "    'Appointment',\n",
    "    id='appointment_for_john_thompson',\n",
    "    status='proposed',\n",
    "    start=slot['start'],\n",
    "    end=slot['end'],\n",
    "    slot=[slot],\n",
    "    participant=participants\n",
    ")\n",
    "await appointment.save()\n",
    "\n",
    "pprint(appointment)"
   ]
  },
  {
   "cell_type": "markdown",
   "metadata": {},
   "source": [
    "## 4 Find appointments"
   ]
  },
  {
   "cell_type": "markdown",
   "metadata": {},
   "source": [
    "**Exercise**: Using `Appointment` [search parameters](https://www.hl7.org/fhir/appointment.html#search) get a list of appointments for the patient."
   ]
  },
  {
   "cell_type": "code",
   "execution_count": null,
   "metadata": {},
   "outputs": [],
   "source": [
    "appointments = await client.resources('Appointment').search(\n",
    "    # Write code here\n",
    ").fetch()\n",
    "[(ap.get('start'), ap.get('end'), ap.get('status')) for ap in appointments]"
   ]
  },
  {
   "cell_type": "markdown",
   "metadata": {},
   "source": [
    "## Summary"
   ]
  },
  {
   "cell_type": "markdown",
   "metadata": {},
   "source": [
    "In this laboratory work we've discussed:\n",
    "* How to book a time slot\n",
    "* How to create an `Appointment`\n",
    "* How to search for `Appointments`"
   ]
  },
  {
   "cell_type": "markdown",
   "metadata": {},
   "source": [
    "<table width=\"100%\" border=\"0\">\n",
    "<tr>\n",
    "<td width=\"50%\" bgcolor=\"#FFF\" border=\"1\">\n",
    "<a href=\"https://www.health-samurai.io/\">\n",
    "<img src=\"images/health-samurai.png\" alt=\"Health Samurai\" align=\"left\" />\n",
    "</a>\n",
    "</td>\n",
    "<td width=\"50%\" bgcolor=\"#FFF\">\n",
    "<a href=\"http://beda.software/\">\n",
    "<img src=\"images/beda-software.png\" alt=\"Beda.Software\" align=\"right\" />\n",
    "</a>\n",
    "</td>\n",
    "</tr>\n",
    "</table>"
   ]
  }
 ],
 "metadata": {
  "kernelspec": {
   "display_name": "Python 3",
   "language": "python",
   "name": "python3"
  },
  "language_info": {
   "codemirror_mode": {
    "name": "ipython",
    "version": 3
   },
   "file_extension": ".py",
   "mimetype": "text/x-python",
   "name": "python",
   "nbconvert_exporter": "python",
   "pygments_lexer": "ipython3",
   "version": "3.7.3"
  }
 },
 "nbformat": 4,
 "nbformat_minor": 2
}
